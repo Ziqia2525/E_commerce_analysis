{
 "cells": [
  {
   "cell_type": "markdown",
   "metadata": {},
   "source": [
    "## Data Load ##"
   ]
  },
  {
   "cell_type": "code",
   "execution_count": 1,
   "metadata": {},
   "outputs": [],
   "source": [
    "import pandas as pd\n",
    "import numpy as np\n",
    "import sqlite3"
   ]
  },
  {
   "cell_type": "code",
   "execution_count": 2,
   "metadata": {},
   "outputs": [
    {
     "name": "stdout",
     "output_type": "stream",
     "text": [
      "customer\n"
     ]
    },
    {
     "data": {
      "text/html": [
       "<div>\n",
       "<style scoped>\n",
       "    .dataframe tbody tr th:only-of-type {\n",
       "        vertical-align: middle;\n",
       "    }\n",
       "\n",
       "    .dataframe tbody tr th {\n",
       "        vertical-align: top;\n",
       "    }\n",
       "\n",
       "    .dataframe thead th {\n",
       "        text-align: right;\n",
       "    }\n",
       "</style>\n",
       "<table border=\"1\" class=\"dataframe\">\n",
       "  <thead>\n",
       "    <tr style=\"text-align: right;\">\n",
       "      <th></th>\n",
       "      <th>customer_id</th>\n",
       "      <th>customer_unique_id</th>\n",
       "      <th>customer_zip_code_prefix</th>\n",
       "      <th>customer_city</th>\n",
       "      <th>customer_state</th>\n",
       "    </tr>\n",
       "  </thead>\n",
       "  <tbody>\n",
       "    <tr>\n",
       "      <th>99442</th>\n",
       "      <td>274fa6071e5e17fe303b9748641082c8</td>\n",
       "      <td>84732c5050c01db9b23e19ba39899398</td>\n",
       "      <td>6703.0</td>\n",
       "      <td>cotia</td>\n",
       "      <td>SP</td>\n",
       "    </tr>\n",
       "  </tbody>\n",
       "</table>\n",
       "</div>"
      ],
      "text/plain": [
       "                            customer_id                customer_unique_id  \\\n",
       "99442  274fa6071e5e17fe303b9748641082c8  84732c5050c01db9b23e19ba39899398   \n",
       "\n",
       "       customer_zip_code_prefix customer_city customer_state  \n",
       "99442                    6703.0         cotia             SP  "
      ]
     },
     "metadata": {},
     "output_type": "display_data"
    },
    {
     "name": "stdout",
     "output_type": "stream",
     "text": [
      "items\n"
     ]
    },
    {
     "data": {
      "text/html": [
       "<div>\n",
       "<style scoped>\n",
       "    .dataframe tbody tr th:only-of-type {\n",
       "        vertical-align: middle;\n",
       "    }\n",
       "\n",
       "    .dataframe tbody tr th {\n",
       "        vertical-align: top;\n",
       "    }\n",
       "\n",
       "    .dataframe thead th {\n",
       "        text-align: right;\n",
       "    }\n",
       "</style>\n",
       "<table border=\"1\" class=\"dataframe\">\n",
       "  <thead>\n",
       "    <tr style=\"text-align: right;\">\n",
       "      <th></th>\n",
       "      <th>order_id</th>\n",
       "      <th>order_item_id</th>\n",
       "      <th>product_id</th>\n",
       "      <th>seller_id</th>\n",
       "      <th>shipping_limit_date</th>\n",
       "      <th>price</th>\n",
       "      <th>freight_value</th>\n",
       "    </tr>\n",
       "  </thead>\n",
       "  <tbody>\n",
       "    <tr>\n",
       "      <th>112649</th>\n",
       "      <td>fffe41c64501cc87c801fd61db3f6244</td>\n",
       "      <td>1</td>\n",
       "      <td>350688d9dc1e75ff97be326363655e01</td>\n",
       "      <td>f7ccf836d21b2fb1de37564105216cc1</td>\n",
       "      <td>2018-06-12 17:10:13</td>\n",
       "      <td>43.0</td>\n",
       "      <td>12.79</td>\n",
       "    </tr>\n",
       "  </tbody>\n",
       "</table>\n",
       "</div>"
      ],
      "text/plain": [
       "                                order_id  order_item_id  \\\n",
       "112649  fffe41c64501cc87c801fd61db3f6244              1   \n",
       "\n",
       "                              product_id                         seller_id  \\\n",
       "112649  350688d9dc1e75ff97be326363655e01  f7ccf836d21b2fb1de37564105216cc1   \n",
       "\n",
       "        shipping_limit_date  price  freight_value  \n",
       "112649  2018-06-12 17:10:13   43.0          12.79  "
      ]
     },
     "metadata": {},
     "output_type": "display_data"
    },
    {
     "name": "stdout",
     "output_type": "stream",
     "text": [
      "orders\n"
     ]
    },
    {
     "data": {
      "text/html": [
       "<div>\n",
       "<style scoped>\n",
       "    .dataframe tbody tr th:only-of-type {\n",
       "        vertical-align: middle;\n",
       "    }\n",
       "\n",
       "    .dataframe tbody tr th {\n",
       "        vertical-align: top;\n",
       "    }\n",
       "\n",
       "    .dataframe thead th {\n",
       "        text-align: right;\n",
       "    }\n",
       "</style>\n",
       "<table border=\"1\" class=\"dataframe\">\n",
       "  <thead>\n",
       "    <tr style=\"text-align: right;\">\n",
       "      <th></th>\n",
       "      <th>order_id</th>\n",
       "      <th>customer_id</th>\n",
       "      <th>order_status</th>\n",
       "      <th>order_purchase_timestamp</th>\n",
       "      <th>order_approved_at</th>\n",
       "      <th>order_delivered_carrier_date</th>\n",
       "      <th>order_delivered_customer_date</th>\n",
       "      <th>order_estimated_delivery_date</th>\n",
       "    </tr>\n",
       "  </thead>\n",
       "  <tbody>\n",
       "    <tr>\n",
       "      <th>99440</th>\n",
       "      <td>66dea50a8b16d9b4dee7af250b4be1a5</td>\n",
       "      <td>edb027a75a1449115f6b43211ae02a24</td>\n",
       "      <td>delivered</td>\n",
       "      <td>2018-03-08 20:57:30</td>\n",
       "      <td>2018-03-09 11:20:28</td>\n",
       "      <td>2018-03-09 22:11:59</td>\n",
       "      <td>2018-03-16 13:08:30</td>\n",
       "      <td>2018-04-03 00:00:00</td>\n",
       "    </tr>\n",
       "  </tbody>\n",
       "</table>\n",
       "</div>"
      ],
      "text/plain": [
       "                               order_id                       customer_id  \\\n",
       "99440  66dea50a8b16d9b4dee7af250b4be1a5  edb027a75a1449115f6b43211ae02a24   \n",
       "\n",
       "      order_status order_purchase_timestamp    order_approved_at  \\\n",
       "99440    delivered      2018-03-08 20:57:30  2018-03-09 11:20:28   \n",
       "\n",
       "      order_delivered_carrier_date order_delivered_customer_date  \\\n",
       "99440          2018-03-09 22:11:59           2018-03-16 13:08:30   \n",
       "\n",
       "      order_estimated_delivery_date  \n",
       "99440           2018-04-03 00:00:00  "
      ]
     },
     "metadata": {},
     "output_type": "display_data"
    },
    {
     "name": "stdout",
     "output_type": "stream",
     "text": [
      "products\n"
     ]
    },
    {
     "data": {
      "text/html": [
       "<div>\n",
       "<style scoped>\n",
       "    .dataframe tbody tr th:only-of-type {\n",
       "        vertical-align: middle;\n",
       "    }\n",
       "\n",
       "    .dataframe tbody tr th {\n",
       "        vertical-align: top;\n",
       "    }\n",
       "\n",
       "    .dataframe thead th {\n",
       "        text-align: right;\n",
       "    }\n",
       "</style>\n",
       "<table border=\"1\" class=\"dataframe\">\n",
       "  <thead>\n",
       "    <tr style=\"text-align: right;\">\n",
       "      <th></th>\n",
       "      <th>product_id</th>\n",
       "      <th>product_category_name</th>\n",
       "      <th>product_name_lenght</th>\n",
       "      <th>product_description_lenght</th>\n",
       "      <th>product_photos_qty</th>\n",
       "      <th>product_weight_g</th>\n",
       "      <th>product_length_cm</th>\n",
       "      <th>product_height_cm</th>\n",
       "      <th>product_width_cm</th>\n",
       "      <th>product_category_name_english</th>\n",
       "    </tr>\n",
       "  </thead>\n",
       "  <tbody>\n",
       "    <tr>\n",
       "      <th>32951</th>\n",
       "      <td>106392145fca363410d287a815be6de4</td>\n",
       "      <td>bed_bath_table</td>\n",
       "      <td>58.0</td>\n",
       "      <td>309.0</td>\n",
       "      <td>1.0</td>\n",
       "      <td>2083.0</td>\n",
       "      <td>12.0</td>\n",
       "      <td>2.0</td>\n",
       "      <td>7.0</td>\n",
       "      <td>bed_bath_table</td>\n",
       "    </tr>\n",
       "  </tbody>\n",
       "</table>\n",
       "</div>"
      ],
      "text/plain": [
       "                             product_id product_category_name  \\\n",
       "32951  106392145fca363410d287a815be6de4        bed_bath_table   \n",
       "\n",
       "       product_name_lenght  product_description_lenght  product_photos_qty  \\\n",
       "32951                 58.0                       309.0                 1.0   \n",
       "\n",
       "       product_weight_g  product_length_cm  product_height_cm  \\\n",
       "32951            2083.0               12.0                2.0   \n",
       "\n",
       "       product_width_cm product_category_name_english  \n",
       "32951               7.0                bed_bath_table  "
      ]
     },
     "metadata": {},
     "output_type": "display_data"
    }
   ],
   "source": [
    "df_customer = pd.read_csv('customer.csv')\n",
    "df_items = pd.read_csv('items.csv')\n",
    "df_orders = pd.read_csv('orders.csv')\n",
    "df_products = pd.read_csv('products.csv')\n",
    "\n",
    "print('customer')\n",
    "display(df_customer.tail(1))\n",
    "print('items')\n",
    "display(df_items.tail(1))\n",
    "print('orders')\n",
    "display(df_orders.tail(1))\n",
    "print('products')\n",
    "display(df_products.tail(1))"
   ]
  },
  {
   "cell_type": "code",
   "execution_count": 11,
   "metadata": {},
   "outputs": [
    {
     "data": {
      "text/plain": [
       "32952"
      ]
     },
     "execution_count": 11,
     "metadata": {},
     "output_type": "execute_result"
    }
   ],
   "source": [
    "conn = sqlite3.connect('e_commerce.db')\n",
    "c = conn.cursor()\n",
    "\n",
    "c.execute(f\"CREATE TABLE IF NOT EXISTS specialities ({', '.join(df_customer.columns)})\")\n",
    "conn.commit()\n",
    "df_customer.to_sql('customer', conn, if_exists='replace', index = False)\n",
    "\n",
    "c.execute(f\"CREATE TABLE IF NOT EXISTS physicians ({', '.join(df_items.columns)})\")\n",
    "conn.commit()\n",
    "df_items.to_sql('items', conn, if_exists='replace', index = False)\n",
    "\n",
    "c.execute(f\"CREATE TABLE IF NOT EXISTS consultations ({', '.join(df_orders.columns)})\")\n",
    "conn.commit()\n",
    "df_orders.to_sql('orders', conn, if_exists='replace', index = False)\n",
    "\n",
    "c.execute(f\"CREATE TABLE IF NOT EXISTS patients ({', '.join(df_products.columns)})\")\n",
    "conn.commit()\n",
    "df_products.to_sql('products', conn, if_exists='replace', index = False)"
   ]
  },
  {
   "cell_type": "markdown",
   "metadata": {},
   "source": [
    "## Data Analysis ##"
   ]
  },
  {
   "cell_type": "code",
   "execution_count": 124,
   "metadata": {},
   "outputs": [],
   "source": [
    "con = sqlite3.connect('e_commerce.db')"
   ]
  },
  {
   "cell_type": "markdown",
   "metadata": {},
   "source": [
    " **Sales:**"
   ]
  },
  {
   "cell_type": "markdown",
   "metadata": {},
   "source": [
    " 1. What is the average basket by product category"
   ]
  },
  {
   "cell_type": "code",
   "execution_count": 97,
   "metadata": {},
   "outputs": [
    {
     "data": {
      "text/plain": [
       "72"
      ]
     },
     "execution_count": 97,
     "metadata": {},
     "output_type": "execute_result"
    }
   ],
   "source": [
    "avg_basket = pd.read_sql(\n",
    "    '''\n",
    "        SELECT \n",
    "            p.product_category_name_english,\n",
    "            AVG(i.price) AS avg_basket\n",
    "        FROM \n",
    "            items i\n",
    "        LEFT JOIN \n",
    "            products p ON i.product_id = p.product_id\n",
    "        GROUP BY\n",
    "            p.product_category_name_english\n",
    "        ORDER BY \n",
    "            avg_basket DESC \n",
    "\n",
    "    ''', \n",
    "    con\n",
    ")\n",
    "\n",
    "avg_basket.to_sql('Sales-1-avg_basket', con, if_exists='replace', index=False)"
   ]
  },
  {
   "cell_type": "markdown",
   "metadata": {},
   "source": [
    " 2. What are the most popular products?"
   ]
  },
  {
   "cell_type": "markdown",
   "metadata": {},
   "source": [
    "According to order"
   ]
  },
  {
   "cell_type": "code",
   "execution_count": 98,
   "metadata": {},
   "outputs": [
    {
     "data": {
      "text/plain": [
       "15"
      ]
     },
     "execution_count": 98,
     "metadata": {},
     "output_type": "execute_result"
    }
   ],
   "source": [
    "# product category\n",
    "\n",
    "most_popular_category_by_order = pd.read_sql(\n",
    "    '''\n",
    "        SELECT \n",
    "            p.product_category_name_english,\n",
    "            COUNT(i.order_id) AS count_order\n",
    "        FROM \n",
    "            items i\n",
    "        LEFT JOIN \n",
    "            products p ON i.product_id = p.product_id\n",
    "        GROUP BY\n",
    "            p.product_category_name_english\n",
    "        ORDER BY \n",
    "            count_order DESC \n",
    "        LIMIT 15\n",
    "\n",
    "    ''', \n",
    "    con\n",
    ")\n",
    "\n",
    "most_popular_category_by_order.to_sql('Sales-2-most_popular_category_by_order', con, if_exists='replace', index=False)"
   ]
  },
  {
   "cell_type": "code",
   "execution_count": 99,
   "metadata": {},
   "outputs": [
    {
     "data": {
      "text/plain": [
       "15"
      ]
     },
     "execution_count": 99,
     "metadata": {},
     "output_type": "execute_result"
    }
   ],
   "source": [
    "# product\n",
    "\n",
    "most_popular_products_by_order = pd.read_sql(\n",
    "    '''\n",
    "        SELECT \n",
    "            p.product_category_name_english,\n",
    "            p.product_id,\n",
    "            COUNT(order_id) AS count_order\n",
    "        FROM \n",
    "            items i\n",
    "        LEFT JOIN \n",
    "            products p ON i.product_id = p.product_id\n",
    "        GROUP BY\n",
    "            p.product_id\n",
    "        ORDER BY \n",
    "            count_order DESC \n",
    "        LIMIT 15\n",
    "\n",
    "    ''', \n",
    "    con\n",
    ")\n",
    "\n",
    "most_popular_products_by_order.to_sql('Sales-2-most_popular_products_by_order', con, if_exists='replace', index=False)"
   ]
  },
  {
   "cell_type": "markdown",
   "metadata": {},
   "source": [
    "According to price"
   ]
  },
  {
   "cell_type": "code",
   "execution_count": 100,
   "metadata": {},
   "outputs": [
    {
     "data": {
      "text/plain": [
       "15"
      ]
     },
     "execution_count": 100,
     "metadata": {},
     "output_type": "execute_result"
    }
   ],
   "source": [
    "# product category\n",
    "\n",
    "most_popular_category_by_price = pd.read_sql(\n",
    "    '''\n",
    "        SELECT \n",
    "            p.product_category_name_english,\n",
    "            SUM(i.price) AS sum_price\n",
    "        FROM \n",
    "            items i\n",
    "        LEFT JOIN \n",
    "            products p ON i.product_id = p.product_id\n",
    "        GROUP BY\n",
    "            p.product_category_name_english\n",
    "        ORDER BY \n",
    "            sum_price DESC \n",
    "        LIMIT 15\n",
    "\n",
    "    ''', \n",
    "    con\n",
    ")\n",
    "\n",
    "most_popular_category_by_price.to_sql('Sales-2-most_popular_category_by_price', con, if_exists='replace', index=False)"
   ]
  },
  {
   "cell_type": "code",
   "execution_count": 101,
   "metadata": {},
   "outputs": [
    {
     "data": {
      "text/plain": [
       "15"
      ]
     },
     "execution_count": 101,
     "metadata": {},
     "output_type": "execute_result"
    }
   ],
   "source": [
    "# product\n",
    "\n",
    "most_popular_products_by_price = pd.read_sql(\n",
    "    '''\n",
    "        SELECT \n",
    "            p.product_category_name_english,\n",
    "            p.product_id,\n",
    "            SUM(price) AS sum_price\n",
    "        FROM \n",
    "            items i\n",
    "        LEFT JOIN \n",
    "            products p ON i.product_id = p.product_id\n",
    "        GROUP BY\n",
    "            p.product_id\n",
    "        ORDER BY \n",
    "            sum_price DESC \n",
    "        LIMIT 15\n",
    "\n",
    "    ''', \n",
    "    con\n",
    ")\n",
    "\n",
    "most_popular_products_by_price.to_sql('Sales-2-most_popular_products_by_price', con, if_exists='replace', index=False)"
   ]
  },
  {
   "cell_type": "markdown",
   "metadata": {},
   "source": [
    " 3. What are repeat customers mostly buying "
   ]
  },
  {
   "cell_type": "code",
   "execution_count": 33,
   "metadata": {},
   "outputs": [
    {
     "name": "stdout",
     "output_type": "stream",
     "text": [
      "True\n",
      "True\n"
     ]
    }
   ],
   "source": [
    "# unique test\n",
    "\n",
    "order_id_unique = df_orders['order_id'].is_unique\n",
    "print(order_id_unique)\n",
    "customer_id_unique = df_orders['customer_id'].is_unique\n",
    "print(customer_id_unique)"
   ]
  },
  {
   "cell_type": "code",
   "execution_count": 102,
   "metadata": {},
   "outputs": [
    {
     "data": {
      "text/plain": [
       "69"
      ]
     },
     "execution_count": 102,
     "metadata": {},
     "output_type": "execute_result"
    }
   ],
   "source": [
    "# Selecet customers who have ordered more than once\n",
    "# Based on the selected customers, calculate the product categories they purchased most\n",
    "\n",
    "query=\"\"\"\n",
    "\n",
    "WITH repeat_customer AS (\n",
    "SELECT\n",
    "    customer_id\n",
    "FROM\n",
    "    customer\n",
    "WHERE\n",
    "    customer_unique_id IN (\n",
    "    SELECT\n",
    "        customer_unique_id\n",
    "    FROM\n",
    "        customer\n",
    "    GROUP BY \n",
    "        customer_unique_id\n",
    "    HAVING \n",
    "        COUNT(DISTINCT customer_id) > 1)\n",
    ")\n",
    "\n",
    "\n",
    "SELECT \n",
    "    p.product_category_name_english,\n",
    "    COUNT(i.order_id) AS count_repeat_category\n",
    "FROM\n",
    "    orders o\n",
    "INNER JOIN\n",
    "    repeat_customer rc ON o.customer_id = rc.customer_id\n",
    "LEFT JOIN\n",
    "    items i ON o.order_id = i.order_id\n",
    "LEFT JOIN\n",
    "    products p ON i.product_id = p.product_id\n",
    "GROUP BY\n",
    "    p.product_category_name_english\n",
    "ORDER BY\n",
    "    count_repeat_category DESC\n",
    "    \n",
    "\"\"\"\n",
    "\n",
    "categories_repeater_mostly_buying = pd.read_sql_query(sql=query, con=con)\n",
    "categories_repeater_mostly_buying.to_sql('Sales-3-categories_repeater_mostly_buying', con, if_exists='replace', index=False)"
   ]
  },
  {
   "cell_type": "code",
   "execution_count": 103,
   "metadata": {},
   "outputs": [
    {
     "data": {
      "text/plain": [
       "4649"
      ]
     },
     "execution_count": 103,
     "metadata": {},
     "output_type": "execute_result"
    }
   ],
   "source": [
    "# Selecet customers who have ordered more than once\n",
    "# Based on the selected customers, calculate the products they purchased most\n",
    "\n",
    "query=\"\"\"\n",
    "\n",
    "WITH repeat_customer AS (\n",
    "SELECT\n",
    "    customer_id\n",
    "FROM\n",
    "    customer\n",
    "WHERE\n",
    "    customer_unique_id IN (\n",
    "    SELECT\n",
    "        customer_unique_id\n",
    "    FROM\n",
    "        customer\n",
    "    GROUP BY \n",
    "        customer_unique_id\n",
    "    HAVING \n",
    "        COUNT(DISTINCT customer_id) > 1)\n",
    ")\n",
    "\n",
    "\n",
    "SELECT \n",
    "    p.product_category_name_english,\n",
    "    p.product_id,\n",
    "    COUNT(i.order_id) AS count_repeat_product\n",
    "FROM\n",
    "    orders o\n",
    "INNER JOIN\n",
    "    repeat_customer rc ON o.customer_id = rc.customer_id\n",
    "LEFT JOIN\n",
    "    items i ON o.order_id = i.order_id\n",
    "LEFT JOIN\n",
    "    products p ON i.product_id = p.product_id\n",
    "GROUP BY\n",
    "    p.product_id\n",
    "ORDER BY\n",
    "    count_repeat_product DESC\n",
    "    \n",
    "\"\"\"\n",
    "\n",
    "products_repeater_mostly_buying = pd.read_sql_query(sql=query, con=con)\n",
    "products_repeater_mostly_buying.to_sql('Sales-3-products_repeater_mostly_buying', con, if_exists='replace', index=False)"
   ]
  },
  {
   "cell_type": "markdown",
   "metadata": {},
   "source": [
    " 4. How many customers are repeaters ?"
   ]
  },
  {
   "cell_type": "code",
   "execution_count": 50,
   "metadata": {},
   "outputs": [
    {
     "name": "stdout",
     "output_type": "stream",
     "text": [
      "False\n",
      "False\n"
     ]
    }
   ],
   "source": [
    "# unique test\n",
    "\n",
    "customer_id = df_customer['customer_id'].is_unique\n",
    "print(customer_id)\n",
    "customer_unique_id = df_customer['customer_unique_id'].is_unique\n",
    "print(customer_unique_id)"
   ]
  },
  {
   "cell_type": "code",
   "execution_count": 68,
   "metadata": {},
   "outputs": [
    {
     "data": {
      "text/html": [
       "<div>\n",
       "<style scoped>\n",
       "    .dataframe tbody tr th:only-of-type {\n",
       "        vertical-align: middle;\n",
       "    }\n",
       "\n",
       "    .dataframe tbody tr th {\n",
       "        vertical-align: top;\n",
       "    }\n",
       "\n",
       "    .dataframe thead th {\n",
       "        text-align: right;\n",
       "    }\n",
       "</style>\n",
       "<table border=\"1\" class=\"dataframe\">\n",
       "  <thead>\n",
       "    <tr style=\"text-align: right;\">\n",
       "      <th></th>\n",
       "      <th>customer_id</th>\n",
       "      <th>customer_unique_id</th>\n",
       "      <th>customer_zip_code_prefix</th>\n",
       "      <th>customer_city</th>\n",
       "      <th>customer_state</th>\n",
       "    </tr>\n",
       "  </thead>\n",
       "  <tbody>\n",
       "    <tr>\n",
       "      <th>5</th>\n",
       "      <td>879864dab9bc3047522c92c82e1212b8</td>\n",
       "      <td>4c93744516667ad3b8f1fb645a3116a4</td>\n",
       "      <td>89254.0</td>\n",
       "      <td>jaragua do sul</td>\n",
       "      <td>SC</td>\n",
       "    </tr>\n",
       "    <tr>\n",
       "      <th>8</th>\n",
       "      <td>5adf08e34b2e993982a47070956c5c65</td>\n",
       "      <td>1175e95fb47ddff9de6b2b06188f7e0d</td>\n",
       "      <td>81560.0</td>\n",
       "      <td>curitiba</td>\n",
       "      <td>PR</td>\n",
       "    </tr>\n",
       "    <tr>\n",
       "      <th>13</th>\n",
       "      <td>eabebad39a88bb6f5b52376faec28612</td>\n",
       "      <td>295c05e81917928d76245e842748184d</td>\n",
       "      <td>5704.0</td>\n",
       "      <td>sao paulo</td>\n",
       "      <td>SP</td>\n",
       "    </tr>\n",
       "    <tr>\n",
       "      <th>18</th>\n",
       "      <td>9b8ce803689b3562defaad4613ef426f</td>\n",
       "      <td>7f3a72e8f988c6e735ba118d54f47458</td>\n",
       "      <td>5416.0</td>\n",
       "      <td>sao paulo</td>\n",
       "      <td>SP</td>\n",
       "    </tr>\n",
       "    <tr>\n",
       "      <th>19</th>\n",
       "      <td>9b8ce803689b3562defaad4613ef426f</td>\n",
       "      <td>7f3a72e8f988c6e735ba118d54f47458</td>\n",
       "      <td>5416.0</td>\n",
       "      <td>NaN</td>\n",
       "      <td>SP</td>\n",
       "    </tr>\n",
       "    <tr>\n",
       "      <th>...</th>\n",
       "      <td>...</td>\n",
       "      <td>...</td>\n",
       "      <td>...</td>\n",
       "      <td>...</td>\n",
       "      <td>...</td>\n",
       "    </tr>\n",
       "    <tr>\n",
       "      <th>99326</th>\n",
       "      <td>5b46a0d983eec8c97363bea78d4a69dd</td>\n",
       "      <td>8bab3162259edfaadd1ea2e1fe7f58dc</td>\n",
       "      <td>31565.0</td>\n",
       "      <td>belo horizonte</td>\n",
       "      <td>MG</td>\n",
       "    </tr>\n",
       "    <tr>\n",
       "      <th>99329</th>\n",
       "      <td>c1affa46f9f3b514555259049a0307b9</td>\n",
       "      <td>12ab9334b1240d6d037f2b0102a49571</td>\n",
       "      <td>38050.0</td>\n",
       "      <td>uberaba</td>\n",
       "      <td>MG</td>\n",
       "    </tr>\n",
       "    <tr>\n",
       "      <th>99338</th>\n",
       "      <td>ebf46ff530343a129926adc1f831dea4</td>\n",
       "      <td>0ee57f62666561b72f2ceacad0230cbf</td>\n",
       "      <td>9530.0</td>\n",
       "      <td>sao caetano do sul</td>\n",
       "      <td>SP</td>\n",
       "    </tr>\n",
       "    <tr>\n",
       "      <th>99355</th>\n",
       "      <td>282fbce48e4d2077aad602dd125c9225</td>\n",
       "      <td>0ceb502fc33a2ad327b08288c5310e2e</td>\n",
       "      <td>29134.0</td>\n",
       "      <td>viana</td>\n",
       "      <td>ES</td>\n",
       "    </tr>\n",
       "    <tr>\n",
       "      <th>99408</th>\n",
       "      <td>d9110683c7a282144e9fc97660026a28</td>\n",
       "      <td>5cbfdb85ec130898108b32c50d619c39</td>\n",
       "      <td>74980.0</td>\n",
       "      <td>aparecida de goiania</td>\n",
       "      <td>GO</td>\n",
       "    </tr>\n",
       "  </tbody>\n",
       "</table>\n",
       "<p>6344 rows × 5 columns</p>\n",
       "</div>"
      ],
      "text/plain": [
       "                            customer_id                customer_unique_id  \\\n",
       "5      879864dab9bc3047522c92c82e1212b8  4c93744516667ad3b8f1fb645a3116a4   \n",
       "8      5adf08e34b2e993982a47070956c5c65  1175e95fb47ddff9de6b2b06188f7e0d   \n",
       "13     eabebad39a88bb6f5b52376faec28612  295c05e81917928d76245e842748184d   \n",
       "18     9b8ce803689b3562defaad4613ef426f  7f3a72e8f988c6e735ba118d54f47458   \n",
       "19     9b8ce803689b3562defaad4613ef426f  7f3a72e8f988c6e735ba118d54f47458   \n",
       "...                                 ...                               ...   \n",
       "99326  5b46a0d983eec8c97363bea78d4a69dd  8bab3162259edfaadd1ea2e1fe7f58dc   \n",
       "99329  c1affa46f9f3b514555259049a0307b9  12ab9334b1240d6d037f2b0102a49571   \n",
       "99338  ebf46ff530343a129926adc1f831dea4  0ee57f62666561b72f2ceacad0230cbf   \n",
       "99355  282fbce48e4d2077aad602dd125c9225  0ceb502fc33a2ad327b08288c5310e2e   \n",
       "99408  d9110683c7a282144e9fc97660026a28  5cbfdb85ec130898108b32c50d619c39   \n",
       "\n",
       "       customer_zip_code_prefix         customer_city customer_state  \n",
       "5                       89254.0        jaragua do sul             SC  \n",
       "8                       81560.0              curitiba             PR  \n",
       "13                       5704.0             sao paulo             SP  \n",
       "18                       5416.0             sao paulo             SP  \n",
       "19                       5416.0                   NaN             SP  \n",
       "...                         ...                   ...            ...  \n",
       "99326                   31565.0        belo horizonte             MG  \n",
       "99329                   38050.0               uberaba             MG  \n",
       "99338                    9530.0    sao caetano do sul             SP  \n",
       "99355                   29134.0                 viana             ES  \n",
       "99408                   74980.0  aparecida de goiania             GO  \n",
       "\n",
       "[6344 rows x 5 columns]"
      ]
     },
     "metadata": {},
     "output_type": "display_data"
    }
   ],
   "source": [
    "df_repeat = df_customer[df_customer['customer_unique_id'].duplicated(keep=False)]\n",
    "display(df_repeat)"
   ]
  },
  {
   "cell_type": "code",
   "execution_count": 104,
   "metadata": {},
   "outputs": [
    {
     "data": {
      "text/plain": [
       "1"
      ]
     },
     "execution_count": 104,
     "metadata": {},
     "output_type": "execute_result"
    }
   ],
   "source": [
    "repeaters_number = pd.read_sql(\n",
    "    '''\n",
    "        SELECT \n",
    "            COUNT(*) AS repeaters_count\n",
    "        FROM (\n",
    "          SELECT \n",
    "              customer_unique_id\n",
    "          FROM \n",
    "              customer\n",
    "          GROUP BY \n",
    "              customer_unique_id\n",
    "          HAVING \n",
    "              COUNT(DISTINCT customer_id) > 1\n",
    "        \n",
    "        ) AS nb_repeat\n",
    "\n",
    "    ''', \n",
    "    con\n",
    ")\n",
    "\n",
    "repeaters_number.to_sql('Sales-4-repeaters_number', con, if_exists='replace', index=False)"
   ]
  },
  {
   "cell_type": "markdown",
   "metadata": {},
   "source": [
    " **Customer Segmentation**"
   ]
  },
  {
   "cell_type": "markdown",
   "metadata": {},
   "source": [
    "RFM model"
   ]
  },
  {
   "cell_type": "code",
   "execution_count": 23,
   "metadata": {},
   "outputs": [],
   "source": [
    "# cleaning data\n",
    "\n",
    "df_customer_seg = df_customer[['customer_id', 'customer_unique_id']]\n",
    "df_ordes_seg = df_orders[['order_id', 'customer_id','order_purchase_timestamp']]\n",
    "df_items_seg = df_items[['order_id', 'order_item_id', 'product_id', 'price']]"
   ]
  },
  {
   "cell_type": "code",
   "execution_count": 24,
   "metadata": {},
   "outputs": [],
   "source": [
    "# merge dataframes\n",
    "\n",
    "orders_items = pd.merge(df_ordes_seg, df_items_seg, on='order_id', how='inner')\n",
    "orders_items_customer = pd.merge(orders_items, df_customer_seg, on='customer_id', how='inner')"
   ]
  },
  {
   "cell_type": "code",
   "execution_count": 25,
   "metadata": {},
   "outputs": [],
   "source": [
    "# clean timestamp\n",
    "\n",
    "orders_items_customer['order_purchase_timestamp'] = pd.to_datetime(\n",
    "    orders_items_customer['order_purchase_timestamp'],\n",
    "    format='%Y-%m-%d %H:%M:%S',\n",
    "    errors='coerce'\n",
    ")\n"
   ]
  },
  {
   "cell_type": "code",
   "execution_count": 26,
   "metadata": {},
   "outputs": [],
   "source": [
    "current_date = pd.to_datetime('2019-12-31')"
   ]
  },
  {
   "cell_type": "code",
   "execution_count": 27,
   "metadata": {},
   "outputs": [],
   "source": [
    "# calculate RFM value\n",
    "\n",
    "rfm = orders_items_customer.groupby('customer_unique_id').agg({\n",
    "\n",
    "    # Recency: lateset purchased date\n",
    "    'order_purchase_timestamp': lambda x: (current_date - x.max()).days,  \n",
    "\n",
    "    # Frequency: order number\n",
    "    'order_id': 'count',  \n",
    "    # nunique\n",
    "\n",
    "    # Monetary: total amount\n",
    "    'price': 'sum'  \n",
    "\n",
    "}).reset_index()\n",
    "\n",
    "rfm = rfm[rfm['order_purchase_timestamp'] >= 0]"
   ]
  },
  {
   "cell_type": "code",
   "execution_count": 107,
   "metadata": {},
   "outputs": [
    {
     "data": {
      "text/plain": [
       "24"
      ]
     },
     "execution_count": 107,
     "metadata": {},
     "output_type": "execute_result"
    }
   ],
   "source": [
    "rfm['order_id'].max()"
   ]
  },
  {
   "cell_type": "code",
   "execution_count": 16,
   "metadata": {},
   "outputs": [],
   "source": [
    "rfm.columns = ['customer_unique_id', 'recency', 'frequency', 'monetary']"
   ]
  },
  {
   "cell_type": "code",
   "execution_count": 17,
   "metadata": {},
   "outputs": [],
   "source": [
    "# calculate RFM score\n",
    "\n",
    "rfm['R_score'] = pd.qcut(rfm['recency'], 4, labels=[4, 3, 2, 1])\n",
    "bins = [0, 5, 10, 20, 30]\n",
    "rfm['F_score'] = pd.cut(rfm['frequency'], bins=bins, labels=[1, 2, 3, 4])\n",
    "rfm['M_score'] = pd.qcut(rfm['monetary'], 4, labels=[1, 2, 3, 4])\n",
    "\n",
    "rfm['RFM_score'] = rfm['R_score'].astype(str) + rfm['F_score'].astype(str) + rfm['M_score'].astype(str)"
   ]
  },
  {
   "cell_type": "code",
   "execution_count": 18,
   "metadata": {},
   "outputs": [],
   "source": [
    "import matplotlib.pyplot as plt\n",
    "import seaborn as sns\n",
    "from sklearn.preprocessing import StandardScaler\n",
    "from sklearn.cluster import KMeans"
   ]
  },
  {
   "cell_type": "code",
   "execution_count": 19,
   "metadata": {},
   "outputs": [],
   "source": [
    "# Use Kmeans to classify customers\n",
    "# standardization\n",
    "\n",
    "features = ['recency', 'frequency', 'monetary']\n",
    "X = rfm[features]\n",
    "scaler = StandardScaler()\n",
    "X_scaled = scaler.fit_transform(X)"
   ]
  },
  {
   "cell_type": "code",
   "execution_count": 20,
   "metadata": {},
   "outputs": [
    {
     "data": {
      "image/png": "[encoded data removed]",
      "text/plain": [
       "<Figure size 800x500 with 1 Axes>"
      ]
     },
     "metadata": {},
     "output_type": "display_data"
    }
   ],
   "source": [
    "# calculate interia\n",
    "\n",
    "inertia = []\n",
    "for k in range(1, 11):\n",
    "    kmeans = KMeans(n_clusters=k, n_init=10, random_state=0)\n",
    "    kmeans.fit(X_scaled)\n",
    "    inertia.append(kmeans.inertia_)\n",
    "\n",
    "plt.figure(figsize=(8, 5))\n",
    "plt.plot(range(1, 11), inertia, marker='o')\n",
    "plt.xlabel('Number of clusters (K)')\n",
    "plt.ylabel('Inertia')\n",
    "plt.title('Elbow Method')\n",
    "plt.show()"
   ]
  },
  {
   "cell_type": "code",
   "execution_count": 22,
   "metadata": {},
   "outputs": [
    {
     "name": "stderr",
     "output_type": "stream",
     "text": [
      "d:\\python\\python3\\Lib\\site-packages\\sklearn\\cluster\\_kmeans.py:1416: FutureWarning: The default value of `n_init` will change from 10 to 'auto' in 1.4. Set the value of `n_init` explicitly to suppress the warning\n",
      "  super()._check_params_vs_input(X, default_n_init=10)\n"
     ]
    },
    {
     "name": "stdout",
     "output_type": "stream",
     "text": [
      "Cluster Centers:\n",
      "      recency  frequency     monetary\n",
      "0  876.635145   1.095531   114.275745\n",
      "1  725.836066   1.194379  1165.282970\n",
      "2  616.532420   1.097616   113.854996\n",
      "3  719.464197   3.872105   280.131938\n",
      "Cluster Sizes:\n",
      "Cluster\n",
      "2    52146\n",
      "0    38334\n",
      "3     2807\n",
      "1     2131\n",
      "Name: count, dtype: int64\n"
     ]
    },
    {
     "data": {
      "image/png": "[encoded data removed]",
      "text/plain": [
       "<Figure size 1000x600 with 2 Axes>"
      ]
     },
     "metadata": {},
     "output_type": "display_data"
    },
    {
     "data": {
      "image/png": "[encoded data removed]",
      "text/plain": [
       "<Figure size 1000x600 with 2 Axes>"
      ]
     },
     "metadata": {},
     "output_type": "display_data"
    }
   ],
   "source": [
    "optimal_k = 4\n",
    "kmeans = KMeans(n_clusters=optimal_k, random_state=0)\n",
    "rfm['Cluster'] = kmeans.fit_predict(X_scaled)\n",
    "\n",
    "# clusters description\n",
    "\n",
    "cluster_centers = pd.DataFrame(scaler.inverse_transform(kmeans.cluster_centers_), columns=features)\n",
    "print(\"Cluster Centers:\")\n",
    "print(cluster_centers)\n",
    "\n",
    "print(\"Cluster Sizes:\")\n",
    "print(rfm['Cluster'].value_counts())\n",
    "\n",
    "\n",
    "plt.figure(figsize=(10, 6))\n",
    "plt.scatter(rfm['recency'], rfm['frequency'], c=rfm['Cluster'], cmap='viridis', marker='o')\n",
    "plt.xlabel('Recency')\n",
    "plt.ylabel('Frequency')\n",
    "plt.title('RFM Clustering(until 2019-12-31)')\n",
    "plt.colorbar(label='Cluster')\n",
    "plt.show()\n",
    "\n",
    "plt.figure(figsize=(10, 6))\n",
    "plt.scatter(rfm['recency'], rfm['monetary'], c=rfm['Cluster'], cmap='viridis', marker='o')\n",
    "plt.xlabel('Recency')\n",
    "plt.ylabel('Monetary')\n",
    "plt.title('RFM Clustering(until 2019-12-31)')\n",
    "plt.colorbar(label='Cluster')\n",
    "plt.show()"
   ]
  },
  {
   "cell_type": "code",
   "execution_count": 93,
   "metadata": {},
   "outputs": [
    {
     "data": {
      "text/plain": [
       "95418"
      ]
     },
     "execution_count": 93,
     "metadata": {},
     "output_type": "execute_result"
    }
   ],
   "source": [
    "rfm.to_sql('Customer Segmentation-RFM', con, index=False, if_exists='replace')"
   ]
  },
  {
   "cell_type": "markdown",
   "metadata": {},
   "source": [
    " **Other Analysis**"
   ]
  },
  {
   "cell_type": "markdown",
   "metadata": {},
   "source": [
    "state sales"
   ]
  },
  {
   "cell_type": "code",
   "execution_count": 17,
   "metadata": {},
   "outputs": [],
   "source": [
    "# cleaning data\n",
    "\n",
    "df_customer_state = df_customer[['customer_id', 'customer_unique_id', 'customer_state']]\n",
    "df_ordes_state = df_orders[['order_id', 'customer_id']]\n",
    "df_items_state = df_items[['order_id',  'price']]"
   ]
  },
  {
   "cell_type": "code",
   "execution_count": 24,
   "metadata": {},
   "outputs": [],
   "source": [
    "# merge \n",
    "\n",
    "orders_items_state = pd.merge(df_ordes_state, df_items_state, on='order_id', how='inner')\n",
    "state_sale = pd.merge(orders_items_state, df_customer_state, on='customer_id', how='inner')"
   ]
  },
  {
   "cell_type": "code",
   "execution_count": 25,
   "metadata": {},
   "outputs": [
    {
     "data": {
      "text/html": [
       "<div>\n",
       "<style scoped>\n",
       "    .dataframe tbody tr th:only-of-type {\n",
       "        vertical-align: middle;\n",
       "    }\n",
       "\n",
       "    .dataframe tbody tr th {\n",
       "        vertical-align: top;\n",
       "    }\n",
       "\n",
       "    .dataframe thead th {\n",
       "        text-align: right;\n",
       "    }\n",
       "</style>\n",
       "<table border=\"1\" class=\"dataframe\">\n",
       "  <thead>\n",
       "    <tr style=\"text-align: right;\">\n",
       "      <th></th>\n",
       "      <th>customer_state</th>\n",
       "      <th>total_sales</th>\n",
       "    </tr>\n",
       "  </thead>\n",
       "  <tbody>\n",
       "    <tr>\n",
       "      <th>25</th>\n",
       "      <td>SP</td>\n",
       "      <td>5203084.85</td>\n",
       "    </tr>\n",
       "    <tr>\n",
       "      <th>18</th>\n",
       "      <td>RJ</td>\n",
       "      <td>1824092.67</td>\n",
       "    </tr>\n",
       "    <tr>\n",
       "      <th>10</th>\n",
       "      <td>MG</td>\n",
       "      <td>1585308.03</td>\n",
       "    </tr>\n",
       "    <tr>\n",
       "      <th>22</th>\n",
       "      <td>RS</td>\n",
       "      <td>750304.02</td>\n",
       "    </tr>\n",
       "    <tr>\n",
       "      <th>17</th>\n",
       "      <td>PR</td>\n",
       "      <td>683083.76</td>\n",
       "    </tr>\n",
       "    <tr>\n",
       "      <th>23</th>\n",
       "      <td>SC</td>\n",
       "      <td>520553.34</td>\n",
       "    </tr>\n",
       "    <tr>\n",
       "      <th>4</th>\n",
       "      <td>BA</td>\n",
       "      <td>511349.99</td>\n",
       "    </tr>\n",
       "    <tr>\n",
       "      <th>6</th>\n",
       "      <td>DF</td>\n",
       "      <td>302603.94</td>\n",
       "    </tr>\n",
       "    <tr>\n",
       "      <th>8</th>\n",
       "      <td>GO</td>\n",
       "      <td>294591.95</td>\n",
       "    </tr>\n",
       "    <tr>\n",
       "      <th>7</th>\n",
       "      <td>ES</td>\n",
       "      <td>275037.31</td>\n",
       "    </tr>\n",
       "  </tbody>\n",
       "</table>\n",
       "</div>"
      ],
      "text/plain": [
       "   customer_state  total_sales\n",
       "25             SP   5203084.85\n",
       "18             RJ   1824092.67\n",
       "10             MG   1585308.03\n",
       "22             RS    750304.02\n",
       "17             PR    683083.76\n",
       "23             SC    520553.34\n",
       "4              BA    511349.99\n",
       "6              DF    302603.94\n",
       "8              GO    294591.95\n",
       "7              ES    275037.31"
      ]
     },
     "execution_count": 25,
     "metadata": {},
     "output_type": "execute_result"
    }
   ],
   "source": [
    "state_sales_amount = state_sale.groupby('customer_state')['price'].sum().reset_index()\n",
    "state_sales_amount.columns = ['customer_state', 'total_sales']\n",
    "state_sales_amount.sort_values(by='total_sales', ascending=False).head(10)"
   ]
  },
  {
   "cell_type": "code",
   "execution_count": 94,
   "metadata": {},
   "outputs": [
    {
     "data": {
      "text/plain": [
       "27"
      ]
     },
     "execution_count": 94,
     "metadata": {},
     "output_type": "execute_result"
    }
   ],
   "source": [
    "state_sales_amount.to_sql('Other-state_sales_amount', con, index=False, if_exists='replace')"
   ]
  },
  {
   "cell_type": "markdown",
   "metadata": {},
   "source": [
    "state repeaters"
   ]
  },
  {
   "cell_type": "code",
   "execution_count": 26,
   "metadata": {},
   "outputs": [
    {
     "data": {
      "text/html": [
       "<div>\n",
       "<style scoped>\n",
       "    .dataframe tbody tr th:only-of-type {\n",
       "        vertical-align: middle;\n",
       "    }\n",
       "\n",
       "    .dataframe tbody tr th {\n",
       "        vertical-align: top;\n",
       "    }\n",
       "\n",
       "    .dataframe thead th {\n",
       "        text-align: right;\n",
       "    }\n",
       "</style>\n",
       "<table border=\"1\" class=\"dataframe\">\n",
       "  <thead>\n",
       "    <tr style=\"text-align: right;\">\n",
       "      <th></th>\n",
       "      <th>customer_state</th>\n",
       "      <th>total_repeaters</th>\n",
       "    </tr>\n",
       "  </thead>\n",
       "  <tbody>\n",
       "    <tr>\n",
       "      <th>25</th>\n",
       "      <td>SP</td>\n",
       "      <td>1313</td>\n",
       "    </tr>\n",
       "    <tr>\n",
       "      <th>18</th>\n",
       "      <td>RJ</td>\n",
       "      <td>429</td>\n",
       "    </tr>\n",
       "    <tr>\n",
       "      <th>10</th>\n",
       "      <td>MG</td>\n",
       "      <td>348</td>\n",
       "    </tr>\n",
       "    <tr>\n",
       "      <th>22</th>\n",
       "      <td>RS</td>\n",
       "      <td>169</td>\n",
       "    </tr>\n",
       "    <tr>\n",
       "      <th>17</th>\n",
       "      <td>PR</td>\n",
       "      <td>149</td>\n",
       "    </tr>\n",
       "    <tr>\n",
       "      <th>23</th>\n",
       "      <td>SC</td>\n",
       "      <td>101</td>\n",
       "    </tr>\n",
       "    <tr>\n",
       "      <th>4</th>\n",
       "      <td>BA</td>\n",
       "      <td>95</td>\n",
       "    </tr>\n",
       "    <tr>\n",
       "      <th>8</th>\n",
       "      <td>GO</td>\n",
       "      <td>66</td>\n",
       "    </tr>\n",
       "    <tr>\n",
       "      <th>6</th>\n",
       "      <td>DF</td>\n",
       "      <td>65</td>\n",
       "    </tr>\n",
       "    <tr>\n",
       "      <th>7</th>\n",
       "      <td>ES</td>\n",
       "      <td>58</td>\n",
       "    </tr>\n",
       "  </tbody>\n",
       "</table>\n",
       "</div>"
      ],
      "text/plain": [
       "   customer_state  total_repeaters\n",
       "25             SP             1313\n",
       "18             RJ              429\n",
       "10             MG              348\n",
       "22             RS              169\n",
       "17             PR              149\n",
       "23             SC              101\n",
       "4              BA               95\n",
       "8              GO               66\n",
       "6              DF               65\n",
       "7              ES               58"
      ]
     },
     "execution_count": 26,
     "metadata": {},
     "output_type": "execute_result"
    }
   ],
   "source": [
    "state_customer = df_customer_state.groupby('customer_unique_id')['customer_id'].nunique()\n",
    "state_repeat = state_customer[state_customer > 1].reset_index()\n",
    "state_repeat = state_repeat.merge(df_customer_state[['customer_unique_id', 'customer_state']].drop_duplicates(), \n",
    "                                  on='customer_unique_id', \n",
    "                                  how='left')\n",
    "\n",
    "\n",
    "state_repeat_amount = state_repeat.groupby('customer_state')['customer_id'].count().reset_index()\n",
    "state_repeat_amount.columns = ['customer_state', 'total_repeaters']\n",
    "state_repeat_amount.sort_values(by='total_repeaters', ascending=False).head(10)"
   ]
  },
  {
   "cell_type": "code",
   "execution_count": 18,
   "metadata": {},
   "outputs": [
    {
     "data": {
      "text/html": [
       "<div>\n",
       "<style scoped>\n",
       "    .dataframe tbody tr th:only-of-type {\n",
       "        vertical-align: middle;\n",
       "    }\n",
       "\n",
       "    .dataframe tbody tr th {\n",
       "        vertical-align: top;\n",
       "    }\n",
       "\n",
       "    .dataframe thead th {\n",
       "        text-align: right;\n",
       "    }\n",
       "</style>\n",
       "<table border=\"1\" class=\"dataframe\">\n",
       "  <thead>\n",
       "    <tr style=\"text-align: right;\">\n",
       "      <th></th>\n",
       "      <th>customer_unique_id</th>\n",
       "      <th>customer_id</th>\n",
       "    </tr>\n",
       "  </thead>\n",
       "  <tbody>\n",
       "    <tr>\n",
       "      <th>0</th>\n",
       "      <td>00172711b30d52eea8b313a7f2cced02</td>\n",
       "      <td>2</td>\n",
       "    </tr>\n",
       "    <tr>\n",
       "      <th>1</th>\n",
       "      <td>004288347e5e88a27ded2bb23747066c</td>\n",
       "      <td>2</td>\n",
       "    </tr>\n",
       "    <tr>\n",
       "      <th>2</th>\n",
       "      <td>004b45ec5c64187465168251cd1c9c2f</td>\n",
       "      <td>2</td>\n",
       "    </tr>\n",
       "    <tr>\n",
       "      <th>3</th>\n",
       "      <td>0058f300f57d7b93c477a131a59b36c3</td>\n",
       "      <td>2</td>\n",
       "    </tr>\n",
       "    <tr>\n",
       "      <th>4</th>\n",
       "      <td>00a39521eb40f7012db50455bf083460</td>\n",
       "      <td>2</td>\n",
       "    </tr>\n",
       "    <tr>\n",
       "      <th>...</th>\n",
       "      <td>...</td>\n",
       "      <td>...</td>\n",
       "    </tr>\n",
       "    <tr>\n",
       "      <th>2992</th>\n",
       "      <td>ff36be26206fffe1eb37afd54c70e18b</td>\n",
       "      <td>3</td>\n",
       "    </tr>\n",
       "    <tr>\n",
       "      <th>2993</th>\n",
       "      <td>ff44401d0d8f5b9c54a47374eb48c1b8</td>\n",
       "      <td>2</td>\n",
       "    </tr>\n",
       "    <tr>\n",
       "      <th>2994</th>\n",
       "      <td>ff8892f7c26aa0446da53d01b18df463</td>\n",
       "      <td>2</td>\n",
       "    </tr>\n",
       "    <tr>\n",
       "      <th>2995</th>\n",
       "      <td>ff922bdd6bafcdf99cb90d7f39cea5b3</td>\n",
       "      <td>3</td>\n",
       "    </tr>\n",
       "    <tr>\n",
       "      <th>2996</th>\n",
       "      <td>ffe254cc039740e17dd15a5305035928</td>\n",
       "      <td>2</td>\n",
       "    </tr>\n",
       "  </tbody>\n",
       "</table>\n",
       "<p>2997 rows × 2 columns</p>\n",
       "</div>"
      ],
      "text/plain": [
       "                    customer_unique_id  customer_id\n",
       "0     00172711b30d52eea8b313a7f2cced02            2\n",
       "1     004288347e5e88a27ded2bb23747066c            2\n",
       "2     004b45ec5c64187465168251cd1c9c2f            2\n",
       "3     0058f300f57d7b93c477a131a59b36c3            2\n",
       "4     00a39521eb40f7012db50455bf083460            2\n",
       "...                                ...          ...\n",
       "2992  ff36be26206fffe1eb37afd54c70e18b            3\n",
       "2993  ff44401d0d8f5b9c54a47374eb48c1b8            2\n",
       "2994  ff8892f7c26aa0446da53d01b18df463            2\n",
       "2995  ff922bdd6bafcdf99cb90d7f39cea5b3            3\n",
       "2996  ffe254cc039740e17dd15a5305035928            2\n",
       "\n",
       "[2997 rows x 2 columns]"
      ]
     },
     "execution_count": 18,
     "metadata": {},
     "output_type": "execute_result"
    }
   ],
   "source": [
    "'''\n",
    "\n",
    "state_customer = df_customer_state.groupby('customer_unique_id')['customer_id'].nunique()\n",
    "state_repeat = state_customer[state_customer > 1].reset_index()\n",
    "state_repeat = state_repeat.merge(df_customer_state.drop_duplicates(subset=['customer_unique_id'])[['customer_unique_id', 'customer_state']], \n",
    "                                  on='customer_unique_id', \n",
    "                                  how='left')\n",
    "\n",
    "state_repeat_amount = state_repeat.groupby('customer_state')['customer_unique_id'].count().reset_index()\n",
    "state_repeat_amount.columns = ['customer_state', 'total_repeaters']\n",
    "state_repeat_amount.sort_values(by='total_repeaters', ascending=False).head(10)\n",
    "\n",
    "'''"
   ]
  },
  {
   "cell_type": "code",
   "execution_count": 95,
   "metadata": {},
   "outputs": [
    {
     "data": {
      "text/plain": [
       "27"
      ]
     },
     "execution_count": 95,
     "metadata": {},
     "output_type": "execute_result"
    }
   ],
   "source": [
    "state_repeat_amount.to_sql('Other-state_repeat_amount', con, index=False, if_exists='replace')"
   ]
  },
  {
   "cell_type": "markdown",
   "metadata": {},
   "source": [
    "SP customers buying description"
   ]
  },
  {
   "cell_type": "code",
   "execution_count": 78,
   "metadata": {},
   "outputs": [
    {
     "data": {
      "text/html": [
       "<div>\n",
       "<style scoped>\n",
       "    .dataframe tbody tr th:only-of-type {\n",
       "        vertical-align: middle;\n",
       "    }\n",
       "\n",
       "    .dataframe tbody tr th {\n",
       "        vertical-align: top;\n",
       "    }\n",
       "\n",
       "    .dataframe thead th {\n",
       "        text-align: right;\n",
       "    }\n",
       "</style>\n",
       "<table border=\"1\" class=\"dataframe\">\n",
       "  <thead>\n",
       "    <tr style=\"text-align: right;\">\n",
       "      <th></th>\n",
       "      <th>order_id</th>\n",
       "      <th>customer_id</th>\n",
       "      <th>product_id</th>\n",
       "      <th>price</th>\n",
       "      <th>product_category_name_english</th>\n",
       "      <th>customer_unique_id</th>\n",
       "      <th>customer_state</th>\n",
       "    </tr>\n",
       "  </thead>\n",
       "  <tbody>\n",
       "    <tr>\n",
       "      <th>0</th>\n",
       "      <td>e481f51cbdc54678b7cc49136f2d6af7</td>\n",
       "      <td>9ef432eb6251297304e76186b10a928d</td>\n",
       "      <td>87285b34884572647811a353c7ac498a</td>\n",
       "      <td>29.99</td>\n",
       "      <td>housewares</td>\n",
       "      <td>7c396fd4830fd04220f754e42b4e5bff</td>\n",
       "      <td>SP</td>\n",
       "    </tr>\n",
       "    <tr>\n",
       "      <th>1</th>\n",
       "      <td>128e10d95713541c87cd1a2e48201934</td>\n",
       "      <td>a20e8105f23924cd00833fd87daa0831</td>\n",
       "      <td>87285b34884572647811a353c7ac498a</td>\n",
       "      <td>29.99</td>\n",
       "      <td>housewares</td>\n",
       "      <td>3a51803cc0d012c3b5dc8b7528cb05f7</td>\n",
       "      <td>SP</td>\n",
       "    </tr>\n",
       "    <tr>\n",
       "      <th>2</th>\n",
       "      <td>0e7e841ddf8f8f2de2bad69267ecfbcf</td>\n",
       "      <td>26c7ac168e1433912a51b924fbd34d34</td>\n",
       "      <td>87285b34884572647811a353c7ac498a</td>\n",
       "      <td>29.99</td>\n",
       "      <td>housewares</td>\n",
       "      <td>ef0996a1a279c26e7ecbd737be23d235</td>\n",
       "      <td>SP</td>\n",
       "    </tr>\n",
       "    <tr>\n",
       "      <th>3</th>\n",
       "      <td>86674ccaee19790309333210917b2c7d</td>\n",
       "      <td>1b338293f35549b5e480b9a3d7bbf3cd</td>\n",
       "      <td>595fac2a385ac33a80bd5114aec74eb8</td>\n",
       "      <td>116.90</td>\n",
       "      <td>perfumery</td>\n",
       "      <td>8b8028d453a01986b48c4271cc341475</td>\n",
       "      <td>SP</td>\n",
       "    </tr>\n",
       "    <tr>\n",
       "      <th>4</th>\n",
       "      <td>df972aca1fba0a417674857678e2c4bb</td>\n",
       "      <td>322eae54daccdcbee96799ebd3a67830</td>\n",
       "      <td>595fac2a385ac33a80bd5114aec74eb8</td>\n",
       "      <td>119.90</td>\n",
       "      <td>perfumery</td>\n",
       "      <td>c03163d8fec3bbc19ede5f2371e5969e</td>\n",
       "      <td>SP</td>\n",
       "    </tr>\n",
       "    <tr>\n",
       "      <th>...</th>\n",
       "      <td>...</td>\n",
       "      <td>...</td>\n",
       "      <td>...</td>\n",
       "      <td>...</td>\n",
       "      <td>...</td>\n",
       "      <td>...</td>\n",
       "      <td>...</td>\n",
       "    </tr>\n",
       "    <tr>\n",
       "      <th>47446</th>\n",
       "      <td>add4f182072426430ee6c993eab97efe</td>\n",
       "      <td>b87639f5efd3e2316dca5dec5e2f88f4</td>\n",
       "      <td>e68ede48908dfec1ba4abbcdb86b420f</td>\n",
       "      <td>369.90</td>\n",
       "      <td>watches_gifts</td>\n",
       "      <td>4515b05f3788bb7a5e66e63457aaf6ce</td>\n",
       "      <td>SP</td>\n",
       "    </tr>\n",
       "    <tr>\n",
       "      <th>47447</th>\n",
       "      <td>87b4c933f31145a28413b39d880ad6c3</td>\n",
       "      <td>ddfdf5e9b2659e1fbd073404c9b762e0</td>\n",
       "      <td>cbaf5898b92064cd5e399c7cff291d0a</td>\n",
       "      <td>57.99</td>\n",
       "      <td>health_beauty</td>\n",
       "      <td>490c3c53ca927221bccbb00706afbcf9</td>\n",
       "      <td>SP</td>\n",
       "    </tr>\n",
       "    <tr>\n",
       "      <th>47448</th>\n",
       "      <td>e8fd20068b9f7e6ec07068bb7537f781</td>\n",
       "      <td>609b9fb8cad4fe0c7b376f77c8ab76ad</td>\n",
       "      <td>0df37da38a30a713453b03053d60d3f7</td>\n",
       "      <td>356.00</td>\n",
       "      <td>sports_leisure</td>\n",
       "      <td>fb9310710003399b031add3e55f34719</td>\n",
       "      <td>SP</td>\n",
       "    </tr>\n",
       "    <tr>\n",
       "      <th>47449</th>\n",
       "      <td>e8fd20068b9f7e6ec07068bb7537f781</td>\n",
       "      <td>609b9fb8cad4fe0c7b376f77c8ab76ad</td>\n",
       "      <td>0df37da38a30a713453b03053d60d3f7</td>\n",
       "      <td>356.00</td>\n",
       "      <td>sports_leisure</td>\n",
       "      <td>fb9310710003399b031add3e55f34719</td>\n",
       "      <td>SP</td>\n",
       "    </tr>\n",
       "    <tr>\n",
       "      <th>47450</th>\n",
       "      <td>9c5dedf39a927c1b2549525ed64a053c</td>\n",
       "      <td>39bd1228ee8140590ac3aca26f2dfe00</td>\n",
       "      <td>ac35486adb7b02598c182c2ff2e05254</td>\n",
       "      <td>72.00</td>\n",
       "      <td>health_beauty</td>\n",
       "      <td>6359f309b166b0196dbf7ad2ac62bb5a</td>\n",
       "      <td>SP</td>\n",
       "    </tr>\n",
       "  </tbody>\n",
       "</table>\n",
       "<p>47451 rows × 7 columns</p>\n",
       "</div>"
      ],
      "text/plain": [
       "                               order_id                       customer_id  \\\n",
       "0      e481f51cbdc54678b7cc49136f2d6af7  9ef432eb6251297304e76186b10a928d   \n",
       "1      128e10d95713541c87cd1a2e48201934  a20e8105f23924cd00833fd87daa0831   \n",
       "2      0e7e841ddf8f8f2de2bad69267ecfbcf  26c7ac168e1433912a51b924fbd34d34   \n",
       "3      86674ccaee19790309333210917b2c7d  1b338293f35549b5e480b9a3d7bbf3cd   \n",
       "4      df972aca1fba0a417674857678e2c4bb  322eae54daccdcbee96799ebd3a67830   \n",
       "...                                 ...                               ...   \n",
       "47446  add4f182072426430ee6c993eab97efe  b87639f5efd3e2316dca5dec5e2f88f4   \n",
       "47447  87b4c933f31145a28413b39d880ad6c3  ddfdf5e9b2659e1fbd073404c9b762e0   \n",
       "47448  e8fd20068b9f7e6ec07068bb7537f781  609b9fb8cad4fe0c7b376f77c8ab76ad   \n",
       "47449  e8fd20068b9f7e6ec07068bb7537f781  609b9fb8cad4fe0c7b376f77c8ab76ad   \n",
       "47450  9c5dedf39a927c1b2549525ed64a053c  39bd1228ee8140590ac3aca26f2dfe00   \n",
       "\n",
       "                             product_id   price product_category_name_english  \\\n",
       "0      87285b34884572647811a353c7ac498a   29.99                    housewares   \n",
       "1      87285b34884572647811a353c7ac498a   29.99                    housewares   \n",
       "2      87285b34884572647811a353c7ac498a   29.99                    housewares   \n",
       "3      595fac2a385ac33a80bd5114aec74eb8  116.90                     perfumery   \n",
       "4      595fac2a385ac33a80bd5114aec74eb8  119.90                     perfumery   \n",
       "...                                 ...     ...                           ...   \n",
       "47446  e68ede48908dfec1ba4abbcdb86b420f  369.90                 watches_gifts   \n",
       "47447  cbaf5898b92064cd5e399c7cff291d0a   57.99                 health_beauty   \n",
       "47448  0df37da38a30a713453b03053d60d3f7  356.00                sports_leisure   \n",
       "47449  0df37da38a30a713453b03053d60d3f7  356.00                sports_leisure   \n",
       "47450  ac35486adb7b02598c182c2ff2e05254   72.00                 health_beauty   \n",
       "\n",
       "                     customer_unique_id customer_state  \n",
       "0      7c396fd4830fd04220f754e42b4e5bff             SP  \n",
       "1      3a51803cc0d012c3b5dc8b7528cb05f7             SP  \n",
       "2      ef0996a1a279c26e7ecbd737be23d235             SP  \n",
       "3      8b8028d453a01986b48c4271cc341475             SP  \n",
       "4      c03163d8fec3bbc19ede5f2371e5969e             SP  \n",
       "...                                 ...            ...  \n",
       "47446  4515b05f3788bb7a5e66e63457aaf6ce             SP  \n",
       "47447  490c3c53ca927221bccbb00706afbcf9             SP  \n",
       "47448  fb9310710003399b031add3e55f34719             SP  \n",
       "47449  fb9310710003399b031add3e55f34719             SP  \n",
       "47450  6359f309b166b0196dbf7ad2ac62bb5a             SP  \n",
       "\n",
       "[47451 rows x 7 columns]"
      ]
     },
     "execution_count": 78,
     "metadata": {},
     "output_type": "execute_result"
    }
   ],
   "source": [
    "# data clean and merge\n",
    "\n",
    "df_products_sp = df_products[['product_id',  'product_category_name_english']]\n",
    "df_items_sp = df_items[['order_id', 'product_id', 'price']]\n",
    "df_customer_sp = df_customer_state[df_customer_state['customer_state'] == 'SP']\n",
    "\n",
    "orders_items_sp = pd.merge(df_ordes_state, df_items_sp, on='order_id', how='inner')\n",
    "orders_items_products_sp = pd.merge(orders_items_sp, df_products_sp, on='product_id', how='inner')\n",
    "sp_sale = pd.merge(orders_items_products_sp, df_customer_sp, on='customer_id', how='inner')\n",
    "sp_sale"
   ]
  },
  {
   "cell_type": "code",
   "execution_count": 85,
   "metadata": {},
   "outputs": [
    {
     "data": {
      "text/html": [
       "<div>\n",
       "<style scoped>\n",
       "    .dataframe tbody tr th:only-of-type {\n",
       "        vertical-align: middle;\n",
       "    }\n",
       "\n",
       "    .dataframe tbody tr th {\n",
       "        vertical-align: top;\n",
       "    }\n",
       "\n",
       "    .dataframe thead th {\n",
       "        text-align: right;\n",
       "    }\n",
       "</style>\n",
       "<table border=\"1\" class=\"dataframe\">\n",
       "  <thead>\n",
       "    <tr style=\"text-align: right;\">\n",
       "      <th></th>\n",
       "      <th>Product Category</th>\n",
       "      <th>Frequency SP</th>\n",
       "    </tr>\n",
       "  </thead>\n",
       "  <tbody>\n",
       "    <tr>\n",
       "      <th>0</th>\n",
       "      <td>bed_bath_table</td>\n",
       "      <td>5236</td>\n",
       "    </tr>\n",
       "    <tr>\n",
       "      <th>1</th>\n",
       "      <td>health_beauty</td>\n",
       "      <td>4204</td>\n",
       "    </tr>\n",
       "    <tr>\n",
       "      <th>2</th>\n",
       "      <td>sports_leisure</td>\n",
       "      <td>3667</td>\n",
       "    </tr>\n",
       "    <tr>\n",
       "      <th>3</th>\n",
       "      <td>furniture_decor</td>\n",
       "      <td>3531</td>\n",
       "    </tr>\n",
       "    <tr>\n",
       "      <th>4</th>\n",
       "      <td>housewares</td>\n",
       "      <td>3265</td>\n",
       "    </tr>\n",
       "    <tr>\n",
       "      <th>...</th>\n",
       "      <td>...</td>\n",
       "      <td>...</td>\n",
       "    </tr>\n",
       "    <tr>\n",
       "      <th>65</th>\n",
       "      <td>music</td>\n",
       "      <td>12</td>\n",
       "    </tr>\n",
       "    <tr>\n",
       "      <th>66</th>\n",
       "      <td>flowers</td>\n",
       "      <td>11</td>\n",
       "    </tr>\n",
       "    <tr>\n",
       "      <th>67</th>\n",
       "      <td>la_cuisine</td>\n",
       "      <td>6</td>\n",
       "    </tr>\n",
       "    <tr>\n",
       "      <th>68</th>\n",
       "      <td>cds_dvds_musicals</td>\n",
       "      <td>6</td>\n",
       "    </tr>\n",
       "    <tr>\n",
       "      <th>69</th>\n",
       "      <td>fashion_childrens_clothes</td>\n",
       "      <td>4</td>\n",
       "    </tr>\n",
       "  </tbody>\n",
       "</table>\n",
       "<p>70 rows × 2 columns</p>\n",
       "</div>"
      ],
      "text/plain": [
       "             Product Category  Frequency SP\n",
       "0              bed_bath_table          5236\n",
       "1               health_beauty          4204\n",
       "2              sports_leisure          3667\n",
       "3             furniture_decor          3531\n",
       "4                  housewares          3265\n",
       "..                        ...           ...\n",
       "65                      music            12\n",
       "66                    flowers            11\n",
       "67                 la_cuisine             6\n",
       "68          cds_dvds_musicals             6\n",
       "69  fashion_childrens_clothes             4\n",
       "\n",
       "[70 rows x 2 columns]"
      ]
     },
     "execution_count": 85,
     "metadata": {},
     "output_type": "execute_result"
    }
   ],
   "source": [
    "# most popular categories in SP\n",
    "\n",
    "sp_category_counts = sp_sale['product_category_name_english'].value_counts()\n",
    "sp_category_counts = sp_category_counts.reset_index()\n",
    "sp_category_counts.columns = ['Product Category', 'Frequency SP']\n",
    "sp_category_counts"
   ]
  },
  {
   "cell_type": "code",
   "execution_count": 86,
   "metadata": {},
   "outputs": [
    {
     "data": {
      "text/html": [
       "<div>\n",
       "<style scoped>\n",
       "    .dataframe tbody tr th:only-of-type {\n",
       "        vertical-align: middle;\n",
       "    }\n",
       "\n",
       "    .dataframe tbody tr th {\n",
       "        vertical-align: top;\n",
       "    }\n",
       "\n",
       "    .dataframe thead th {\n",
       "        text-align: right;\n",
       "    }\n",
       "</style>\n",
       "<table border=\"1\" class=\"dataframe\">\n",
       "  <thead>\n",
       "    <tr style=\"text-align: right;\">\n",
       "      <th></th>\n",
       "      <th>Product Category</th>\n",
       "      <th>Avg basket SP</th>\n",
       "    </tr>\n",
       "  </thead>\n",
       "  <tbody>\n",
       "    <tr>\n",
       "      <th>0</th>\n",
       "      <td>agro_industry_and_commerce</td>\n",
       "      <td>272.463684</td>\n",
       "    </tr>\n",
       "    <tr>\n",
       "      <th>1</th>\n",
       "      <td>air_conditioning</td>\n",
       "      <td>163.754245</td>\n",
       "    </tr>\n",
       "    <tr>\n",
       "      <th>2</th>\n",
       "      <td>art</td>\n",
       "      <td>150.887273</td>\n",
       "    </tr>\n",
       "    <tr>\n",
       "      <th>3</th>\n",
       "      <td>arts_and_craftmanship</td>\n",
       "      <td>56.640625</td>\n",
       "    </tr>\n",
       "    <tr>\n",
       "      <th>4</th>\n",
       "      <td>audio</td>\n",
       "      <td>120.955103</td>\n",
       "    </tr>\n",
       "    <tr>\n",
       "      <th>...</th>\n",
       "      <td>...</td>\n",
       "      <td>...</td>\n",
       "    </tr>\n",
       "    <tr>\n",
       "      <th>65</th>\n",
       "      <td>stationery</td>\n",
       "      <td>85.149182</td>\n",
       "    </tr>\n",
       "    <tr>\n",
       "      <th>66</th>\n",
       "      <td>tablets_printing_image</td>\n",
       "      <td>76.555000</td>\n",
       "    </tr>\n",
       "    <tr>\n",
       "      <th>67</th>\n",
       "      <td>telephony</td>\n",
       "      <td>63.237108</td>\n",
       "    </tr>\n",
       "    <tr>\n",
       "      <th>68</th>\n",
       "      <td>toys</td>\n",
       "      <td>108.388919</td>\n",
       "    </tr>\n",
       "    <tr>\n",
       "      <th>69</th>\n",
       "      <td>watches_gifts</td>\n",
       "      <td>190.710180</td>\n",
       "    </tr>\n",
       "  </tbody>\n",
       "</table>\n",
       "<p>70 rows × 2 columns</p>\n",
       "</div>"
      ],
      "text/plain": [
       "              Product Category  Avg basket SP\n",
       "0   agro_industry_and_commerce     272.463684\n",
       "1             air_conditioning     163.754245\n",
       "2                          art     150.887273\n",
       "3        arts_and_craftmanship      56.640625\n",
       "4                        audio     120.955103\n",
       "..                         ...            ...\n",
       "65                  stationery      85.149182\n",
       "66      tablets_printing_image      76.555000\n",
       "67                   telephony      63.237108\n",
       "68                        toys     108.388919\n",
       "69               watches_gifts     190.710180\n",
       "\n",
       "[70 rows x 2 columns]"
      ]
     },
     "execution_count": 86,
     "metadata": {},
     "output_type": "execute_result"
    }
   ],
   "source": [
    "# average basket of most popular categories in SP\n",
    "\n",
    "avg_basket_sp = sp_sale.groupby('product_category_name_english')['price'].mean().reset_index()\n",
    "avg_basket_sp.columns = ['Product Category', 'Avg basket SP']\n",
    "avg_basket_sp"
   ]
  },
  {
   "cell_type": "code",
   "execution_count": 83,
   "metadata": {},
   "outputs": [],
   "source": [
    "con = sqlite3.connect('e_commerce.db')\n",
    "cursor = con.cursor()"
   ]
  },
  {
   "cell_type": "code",
   "execution_count": 88,
   "metadata": {},
   "outputs": [
    {
     "data": {
      "text/html": [
       "<div>\n",
       "<style scoped>\n",
       "    .dataframe tbody tr th:only-of-type {\n",
       "        vertical-align: middle;\n",
       "    }\n",
       "\n",
       "    .dataframe tbody tr th {\n",
       "        vertical-align: top;\n",
       "    }\n",
       "\n",
       "    .dataframe thead th {\n",
       "        text-align: right;\n",
       "    }\n",
       "</style>\n",
       "<table border=\"1\" class=\"dataframe\">\n",
       "  <thead>\n",
       "    <tr style=\"text-align: right;\">\n",
       "      <th></th>\n",
       "      <th>Product Category</th>\n",
       "      <th>Avg basket totally</th>\n",
       "    </tr>\n",
       "  </thead>\n",
       "  <tbody>\n",
       "    <tr>\n",
       "      <th>0</th>\n",
       "      <td>computers</td>\n",
       "      <td>1098.340542</td>\n",
       "    </tr>\n",
       "    <tr>\n",
       "      <th>1</th>\n",
       "      <td>small_appliances_home_oven_and_coffee</td>\n",
       "      <td>624.285658</td>\n",
       "    </tr>\n",
       "    <tr>\n",
       "      <th>2</th>\n",
       "      <td>home_appliances_2</td>\n",
       "      <td>476.124958</td>\n",
       "    </tr>\n",
       "    <tr>\n",
       "      <th>3</th>\n",
       "      <td>agro_industry_and_commerce</td>\n",
       "      <td>342.124858</td>\n",
       "    </tr>\n",
       "    <tr>\n",
       "      <th>4</th>\n",
       "      <td>musical_instruments</td>\n",
       "      <td>281.616000</td>\n",
       "    </tr>\n",
       "    <tr>\n",
       "      <th>...</th>\n",
       "      <td>...</td>\n",
       "      <td>...</td>\n",
       "    </tr>\n",
       "    <tr>\n",
       "      <th>67</th>\n",
       "      <td>food_drink</td>\n",
       "      <td>54.602446</td>\n",
       "    </tr>\n",
       "    <tr>\n",
       "      <th>68</th>\n",
       "      <td>cds_dvds_musicals</td>\n",
       "      <td>52.142857</td>\n",
       "    </tr>\n",
       "    <tr>\n",
       "      <th>69</th>\n",
       "      <td>diapers_and_hygiene</td>\n",
       "      <td>40.194615</td>\n",
       "    </tr>\n",
       "    <tr>\n",
       "      <th>70</th>\n",
       "      <td>flowers</td>\n",
       "      <td>33.637576</td>\n",
       "    </tr>\n",
       "    <tr>\n",
       "      <th>71</th>\n",
       "      <td>home_comfort_2</td>\n",
       "      <td>25.342333</td>\n",
       "    </tr>\n",
       "  </tbody>\n",
       "</table>\n",
       "<p>72 rows × 2 columns</p>\n",
       "</div>"
      ],
      "text/plain": [
       "                         Product Category  Avg basket totally\n",
       "0                               computers         1098.340542\n",
       "1   small_appliances_home_oven_and_coffee          624.285658\n",
       "2                       home_appliances_2          476.124958\n",
       "3              agro_industry_and_commerce          342.124858\n",
       "4                     musical_instruments          281.616000\n",
       "..                                    ...                 ...\n",
       "67                             food_drink           54.602446\n",
       "68                      cds_dvds_musicals           52.142857\n",
       "69                    diapers_and_hygiene           40.194615\n",
       "70                                flowers           33.637576\n",
       "71                         home_comfort_2           25.342333\n",
       "\n",
       "[72 rows x 2 columns]"
      ]
     },
     "execution_count": 88,
     "metadata": {},
     "output_type": "execute_result"
    }
   ],
   "source": [
    "query = \"SELECT * FROM avg_basket\"  \n",
    "df_avg_basket = pd.read_sql_query(query, con)\n",
    "df_avg_basket.columns = ['Product Category', 'Avg basket totally']\n",
    "df_avg_basket"
   ]
  },
  {
   "cell_type": "code",
   "execution_count": 90,
   "metadata": {},
   "outputs": [
    {
     "data": {
      "text/html": [
       "<div>\n",
       "<style scoped>\n",
       "    .dataframe tbody tr th:only-of-type {\n",
       "        vertical-align: middle;\n",
       "    }\n",
       "\n",
       "    .dataframe tbody tr th {\n",
       "        vertical-align: top;\n",
       "    }\n",
       "\n",
       "    .dataframe thead th {\n",
       "        text-align: right;\n",
       "    }\n",
       "</style>\n",
       "<table border=\"1\" class=\"dataframe\">\n",
       "  <thead>\n",
       "    <tr style=\"text-align: right;\">\n",
       "      <th></th>\n",
       "      <th>Product Category</th>\n",
       "      <th>Frequency SP</th>\n",
       "      <th>Avg basket SP</th>\n",
       "      <th>Avg basket totally</th>\n",
       "    </tr>\n",
       "  </thead>\n",
       "  <tbody>\n",
       "    <tr>\n",
       "      <th>0</th>\n",
       "      <td>bed_bath_table</td>\n",
       "      <td>5236</td>\n",
       "      <td>91.362571</td>\n",
       "      <td>93.296327</td>\n",
       "    </tr>\n",
       "    <tr>\n",
       "      <th>1</th>\n",
       "      <td>health_beauty</td>\n",
       "      <td>4204</td>\n",
       "      <td>109.967940</td>\n",
       "      <td>130.163531</td>\n",
       "    </tr>\n",
       "    <tr>\n",
       "      <th>2</th>\n",
       "      <td>sports_leisure</td>\n",
       "      <td>3667</td>\n",
       "      <td>105.360515</td>\n",
       "      <td>114.344285</td>\n",
       "    </tr>\n",
       "    <tr>\n",
       "      <th>3</th>\n",
       "      <td>furniture_decor</td>\n",
       "      <td>3531</td>\n",
       "      <td>81.197400</td>\n",
       "      <td>87.564494</td>\n",
       "    </tr>\n",
       "    <tr>\n",
       "      <th>4</th>\n",
       "      <td>housewares</td>\n",
       "      <td>3265</td>\n",
       "      <td>84.342613</td>\n",
       "      <td>90.788148</td>\n",
       "    </tr>\n",
       "    <tr>\n",
       "      <th>5</th>\n",
       "      <td>computers_accessories</td>\n",
       "      <td>3171</td>\n",
       "      <td>110.623709</td>\n",
       "      <td>116.513903</td>\n",
       "    </tr>\n",
       "    <tr>\n",
       "      <th>6</th>\n",
       "      <td>watches_gifts</td>\n",
       "      <td>2281</td>\n",
       "      <td>190.710180</td>\n",
       "      <td>201.135984</td>\n",
       "    </tr>\n",
       "    <tr>\n",
       "      <th>7</th>\n",
       "      <td>auto</td>\n",
       "      <td>1747</td>\n",
       "      <td>122.654419</td>\n",
       "      <td>139.957523</td>\n",
       "    </tr>\n",
       "    <tr>\n",
       "      <th>8</th>\n",
       "      <td>toys</td>\n",
       "      <td>1712</td>\n",
       "      <td>108.388919</td>\n",
       "      <td>117.548360</td>\n",
       "    </tr>\n",
       "    <tr>\n",
       "      <th>9</th>\n",
       "      <td>telephony</td>\n",
       "      <td>1646</td>\n",
       "      <td>63.237108</td>\n",
       "      <td>71.213978</td>\n",
       "    </tr>\n",
       "  </tbody>\n",
       "</table>\n",
       "</div>"
      ],
      "text/plain": [
       "        Product Category  Frequency SP  Avg basket SP  Avg basket totally\n",
       "0         bed_bath_table          5236      91.362571           93.296327\n",
       "1          health_beauty          4204     109.967940          130.163531\n",
       "2         sports_leisure          3667     105.360515          114.344285\n",
       "3        furniture_decor          3531      81.197400           87.564494\n",
       "4             housewares          3265      84.342613           90.788148\n",
       "5  computers_accessories          3171     110.623709          116.513903\n",
       "6          watches_gifts          2281     190.710180          201.135984\n",
       "7                   auto          1747     122.654419          139.957523\n",
       "8                   toys          1712     108.388919          117.548360\n",
       "9              telephony          1646      63.237108           71.213978"
      ]
     },
     "execution_count": 90,
     "metadata": {},
     "output_type": "execute_result"
    }
   ],
   "source": [
    "# compare avg basket of SP with total state\n",
    "\n",
    "top_sp_categories = sp_category_counts.head(10)\n",
    "\n",
    "combined_avg = pd.merge(avg_basket_sp, df_avg_basket, on='Product Category', how='outer')\n",
    "final_avg = pd.merge(top_sp_categories, combined_avg, on='Product Category', how='left')\n",
    "\n",
    "final_avg"
   ]
  },
  {
   "cell_type": "code",
   "execution_count": 96,
   "metadata": {},
   "outputs": [
    {
     "data": {
      "text/plain": [
       "10"
      ]
     },
     "execution_count": 96,
     "metadata": {},
     "output_type": "execute_result"
    }
   ],
   "source": [
    "final_avg.to_sql('Other-avg basket comparison between SP and total state', con, index=False, if_exists='replace')"
   ]
  },
  {
   "cell_type": "code",
   "execution_count": 125,
   "metadata": {},
   "outputs": [
    {
     "name": "stdout",
     "output_type": "stream",
     "text": [
      "                                                 name\n",
      "0                                            customer\n",
      "1                                               items\n",
      "2                                              orders\n",
      "3                                            products\n",
      "4                           Customer Segmentation-RFM\n",
      "5                            Other-state_sales_amount\n",
      "6                           Other-state_repeat_amount\n",
      "7   Other-avg basket comparison between SP and tot...\n",
      "8                                  Sales-1-avg_basket\n",
      "9              Sales-2-most_popular_category_by_order\n",
      "10             Sales-2-most_popular_products_by_order\n",
      "11             Sales-2-most_popular_category_by_price\n",
      "12             Sales-2-most_popular_products_by_price\n",
      "13          Sales-3-categories_repeater_mostly_buying\n",
      "14            Sales-3-products_repeater_mostly_buying\n",
      "15                           Sales-4-repeaters_number\n"
     ]
    }
   ],
   "source": [
    "cursor = con.cursor()\n",
    "\n",
    "tables_query = \"SELECT name FROM sqlite_master WHERE type='table';\"\n",
    "tables = pd.read_sql_query(tables_query, con)\n",
    "print(tables)\n",
    "\n",
    "cursor.close()\n",
    "con.close()"
   ]
  }
 ],
 "metadata": {
  "kernelspec": {
   "display_name": "Python 3",
   "language": "python",
   "name": "python3"
  },
  "language_info": {
   "codemirror_mode": {
    "name": "ipython",
    "version": 3
   },
   "file_extension": ".py",
   "mimetype": "text/x-python",
   "name": "python",
   "nbconvert_exporter": "python",
   "pygments_lexer": "ipython3",
   "version": "3.12.0"
  }
 },
 "nbformat": 4,
 "nbformat_minor": 2
}
